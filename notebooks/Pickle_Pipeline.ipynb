{
 "cells": [
  {
   "cell_type": "markdown",
   "metadata": {},
   "source": [
    "This notebook is just to pickle the pipeline for my app."
   ]
  },
  {
   "cell_type": "code",
   "execution_count": 2,
   "metadata": {},
   "outputs": [
    {
     "data": {
      "text/plain": [
       "Pipeline(memory=None,\n",
       "         steps=[('onehotencoder',\n",
       "                 OneHotEncoder(cols=['Lge'], drop_invariant=False,\n",
       "                               handle_missing='value', handle_unknown='value',\n",
       "                               return_df=True, use_cat_names=True, verbose=0)),\n",
       "                ('ridge',\n",
       "                 Ridge(alpha=504, copy_X=True, fit_intercept=True,\n",
       "                       max_iter=None, normalize=False, random_state=None,\n",
       "                       solver='auto', tol=0.001))],\n",
       "         verbose=False)"
      ]
     },
     "execution_count": 2,
     "metadata": {},
     "output_type": "execute_result"
    }
   ],
   "source": [
    "import pandas as pd\n",
    "import numpy as np\n",
    "from sklearn.linear_model import Ridge\n",
    "from sklearn.pipeline import make_pipeline\n",
    "import category_encoders as ce\n",
    "\n",
    "df = pd.read_csv('training-data.csv')\n",
    "\n",
    "non_features = ['Player', 'Tm', 'Target']\n",
    "X_train = df.drop(non_features, axis=1)\n",
    "y_train = df['Target']\n",
    "\n",
    "pipeline = make_pipeline(\n",
    "    ce.OneHotEncoder(use_cat_names=True),\n",
    "    Ridge(alpha=504)\n",
    ")\n",
    "\n",
    "pipeline.fit(X_train, y_train)"
   ]
  },
  {
   "cell_type": "code",
   "execution_count": 3,
   "metadata": {},
   "outputs": [
    {
     "data": {
      "text/plain": [
       "['pipeline.joblib']"
      ]
     },
     "execution_count": 3,
     "metadata": {},
     "output_type": "execute_result"
    }
   ],
   "source": [
    "from joblib import dump\n",
    "\n",
    "dump(pipeline, 'pipeline.joblib', compress=True)"
   ]
  },
  {
   "cell_type": "code",
   "execution_count": 4,
   "metadata": {},
   "outputs": [
    {
     "name": "stdout",
     "output_type": "stream",
     "text": [
      "joblib==0.14.0\n",
      "scikit-learn==0.21.3\n",
      "category_encoders==2.1.0\n"
     ]
    }
   ],
   "source": [
    "import joblib\n",
    "import sklearn\n",
    "import category_encoders as ce\n",
    "print(f'joblib=={joblib.__version__}')\n",
    "print(f'scikit-learn=={sklearn.__version__}')\n",
    "print(f'category_encoders=={ce.__version__}')"
   ]
  },
  {
   "cell_type": "code",
   "execution_count": null,
   "metadata": {},
   "outputs": [],
   "source": []
  }
 ],
 "metadata": {
  "kernelspec": {
   "display_name": "Python 3",
   "language": "python",
   "name": "python3"
  },
  "language_info": {
   "codemirror_mode": {
    "name": "ipython",
    "version": 3
   },
   "file_extension": ".py",
   "mimetype": "text/x-python",
   "name": "python",
   "nbconvert_exporter": "python",
   "pygments_lexer": "ipython3",
   "version": "3.7.4"
  }
 },
 "nbformat": 4,
 "nbformat_minor": 2
}
